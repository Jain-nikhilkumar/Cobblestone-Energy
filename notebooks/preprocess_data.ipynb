{
 "cells": [
  {
   "cell_type": "code",
   "execution_count": 1,
   "metadata": {},
   "outputs": [],
   "source": [
    "import pandas as pd\n",
    "from sklearn.preprocessing import LabelEncoder, StandardScaler\n",
    "\n"
   ]
  },
  {
   "cell_type": "code",
   "execution_count": 2,
   "metadata": {},
   "outputs": [],
   "source": [
    "# Load the dataset\n",
    "data_df = pd.read_csv(r'E:\\NIKHIL\\ML\\Cobblestone proj\\data\\Synthetic_Financial_datasets_log.csv')"
   ]
  },
  {
   "cell_type": "code",
   "execution_count": 3,
   "metadata": {},
   "outputs": [],
   "source": [
    "# Label encode the 'type' column (e.g., PAYMENT, TRANSFER, etc.)\n",
    "le = LabelEncoder()\n",
    "data_df['type_encoded'] = le.fit_transform(data_df['type'])\n",
    "\n",
    "# Select relevant features for anomaly detection\n",
    "features = ['type_encoded', 'amount', 'oldbalanceOrg', 'newbalanceOrig', 'oldbalanceDest', 'newbalanceDest']\n",
    "\n",
    "# Standardize the data\n",
    "scaler = StandardScaler()\n",
    "data_df[features] = scaler.fit_transform(data_df[features])"
   ]
  },
  {
   "cell_type": "code",
   "execution_count": 4,
   "metadata": {},
   "outputs": [
    {
     "name": "stdout",
     "output_type": "stream",
     "text": [
      "   step      type    amount     nameOrig  oldbalanceOrg  newbalanceOrig  \\\n",
      "0     1   PAYMENT -0.281560  C1231006815      -0.229810       -0.237622   \n",
      "1     1   PAYMENT -0.294767  C1666544295      -0.281359       -0.285812   \n",
      "2     1  TRANSFER -0.297555  C1305486145      -0.288654       -0.292442   \n",
      "3     1  CASH_OUT -0.297555   C840083671      -0.288654       -0.292442   \n",
      "4     1   PAYMENT -0.278532  C2048537720      -0.274329       -0.282221   \n",
      "\n",
      "      nameDest  oldbalanceDest  newbalanceDest  isFraud  isFlaggedFraud  \\\n",
      "0  M1979787155       -0.323814       -0.333411        0               0   \n",
      "1  M2044282225       -0.323814       -0.333411        0               0   \n",
      "2   C553264065       -0.323814       -0.333411        1               0   \n",
      "3    C38997010       -0.317582       -0.333411        1               0   \n",
      "4  M1230701703       -0.323814       -0.333411        0               0   \n",
      "\n",
      "   type_encoded  \n",
      "0      0.952399  \n",
      "1      0.952399  \n",
      "2      1.693076  \n",
      "3     -0.528954  \n",
      "4      0.952399  \n"
     ]
    }
   ],
   "source": [
    "# Inspect the processed dataset\n",
    "print(data_df.head())"
   ]
  },
  {
   "cell_type": "code",
   "execution_count": 5,
   "metadata": {},
   "outputs": [
    {
     "name": "stdout",
     "output_type": "stream",
     "text": [
      "Processed dataset has been saved as 'processed_Synthetic_Financial_datasets_log.csv'.\n"
     ]
    }
   ],
   "source": [
    "# Save the processed dataset for future use\n",
    "data_df.to_csv('processed_Synthetic_Financial_datasets_log.csv', index=False)\n",
    "\n",
    "print(\"Processed dataset has been saved as 'processed_Synthetic_Financial_datasets_log.csv'.\")\n"
   ]
  },
  {
   "cell_type": "code",
   "execution_count": null,
   "metadata": {},
   "outputs": [],
   "source": []
  }
 ],
 "metadata": {
  "kernelspec": {
   "display_name": "base",
   "language": "python",
   "name": "python3"
  },
  "language_info": {
   "codemirror_mode": {
    "name": "ipython",
    "version": 3
   },
   "file_extension": ".py",
   "mimetype": "text/x-python",
   "name": "python",
   "nbconvert_exporter": "python",
   "pygments_lexer": "ipython3",
   "version": "3.12.3"
  }
 },
 "nbformat": 4,
 "nbformat_minor": 2
}
