import pandas as pd
from sklearn.preprocessing import LabelEncoder, StandardScaler
from sklearn.ensemble import IsolationForest
import matplotlib.pyplot as plt

# Load the dataset
data_df = pd.read_csv(r'E:\NIKHIL\ML\Cobblestone proj\data\preprocessed data\processed_Synthetic_Financial_datasets_log.csv')

# Label encode the 'type' column (e.g., PAYMENT, TRANSFER, etc.)
le = LabelEncoder()
data_df['type_encoded'] = le.fit_transform(data_df['type'])

# Select relevant features for anomaly detection
features = ['type_encoded', 'amount', 'oldbalanceOrg', 'newbalanceOrig', 'oldbalanceDest', 'newbalanceDest']

# Standardize the data
scaler = StandardScaler()
data_df[features] = scaler.fit_transform(data_df[features])

# Train the Isolation Forest on the selected features
iso_forest = IsolationForest(n_estimators=100,   # Number of base estimators (trees)
                             contamination=0.01, # Proportion of outliers in the data
                             max_samples='auto', # Subsampling for efficiency
                             random_state=42)    # Seed for reproducibility

iso_forest.fit(data_df[features])

# Predict anomalies (-1 means anomaly, 1 means normal)
data_df['anomaly'] = iso_forest.predict(data_df[features])

# Filter and display the detected anomalies
anomalies = data_df[data_df['anomaly'] == -1]

print(f"Number of anomalies detected: {len(anomalies)}")
print(anomalies.head())

# Save the results for future analysis
anomalies.to_csv('detected_anomalies.csv', index=False)
print("Anomalies have been saved to 'detected_anomalies.csv'.")

# Visualization
plt.figure(figsize=(10, 6))  # Optional: Set the figure size

# Plot normal transactions
plt.scatter(data_df['amount'], data_df['oldbalanceOrg'], color='blue', label='Normal', alpha=0.5)

# Plot anomalies
plt.scatter(anomalies['amount'], anomalies['oldbalanceOrg'], color='red', label='Anomalies', alpha=0.7)

# Add labels and title
plt.title('Anomaly Detection: Amount vs OldbalanceOrg')
plt.xlabel('Amount')
plt.ylabel('Old Balance (Origin Account)')
plt.legend()

# Show the plot
plt.show()
